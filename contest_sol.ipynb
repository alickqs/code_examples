{
  "nbformat": 4,
  "nbformat_minor": 0,
  "metadata": {
    "colab": {
      "provenance": [],
      "authorship_tag": "ABX9TyMl9LZ1YrsQa7WGWrWe69Il",
      "include_colab_link": true
    },
    "kernelspec": {
      "name": "python3",
      "display_name": "Python 3"
    },
    "language_info": {
      "name": "python"
    }
  },
  "cells": [
    {
      "cell_type": "markdown",
      "metadata": {
        "id": "view-in-github",
        "colab_type": "text"
      },
      "source": [
        "<a href=\"https://colab.research.google.com/github/alickqs/code_examples/blob/main/contest_sol.ipynb\" target=\"_parent\"><img src=\"https://colab.research.google.com/assets/colab-badge.svg\" alt=\"Open In Colab\"/></a>"
      ]
    },
    {
      "cell_type": "markdown",
      "source": [
        "# код"
      ],
      "metadata": {
        "id": "zy-jUE-slc9w"
      }
    },
    {
      "cell_type": "code",
      "execution_count": 1,
      "metadata": {
        "id": "7j06eSdDVHnn"
      },
      "outputs": [],
      "source": [
        "import math\n",
        "import random\n",
        "uniform = random.uniform\n",
        "def generate1():\n",
        "    a = uniform(0, 1)\n",
        "    b = uniform(0, 1)\n",
        "    return a * math.cos(2 * math.pi * b)\n",
        "    return a * math.sin(2 * math.pi * b)\n",
        "\n",
        "def generate2():\n",
        "    while True:\n",
        "        x = uniform(-1, 1)\n",
        "        y = uniform(-1, 1)\n",
        "        if x ** 2 + y ** 2 > 1:\n",
        "            continue\n",
        "        return x\n",
        "        return y"
      ]
    },
    {
      "cell_type": "code",
      "source": [
        "x_train, y_train, x_test, y_test = [], [], [], []"
      ],
      "metadata": {
        "id": "C84ZlQYWVWiQ"
      },
      "execution_count": 2,
      "outputs": []
    },
    {
      "cell_type": "code",
      "source": [
        "def add(num, x, y):\n",
        "  for i in range(num):\n",
        "    row = []\n",
        "    current = random.randint(1,2)\n",
        "    if current == 1:\n",
        "      for i in range(1000):\n",
        "        row.append(generate1())\n",
        "    if current == 2:\n",
        "      for i in range(1000):\n",
        "        row.append(generate2())\n",
        "    x.append(row)\n",
        "    y.append(current)\n",
        "\n",
        "  return x, y"
      ],
      "metadata": {
        "id": "t1seDolBV8Wy"
      },
      "execution_count": 3,
      "outputs": []
    },
    {
      "cell_type": "code",
      "source": [
        "x_train, y_train = add(1000, x_train, y_train)\n",
        "x_test, y_test = add(100, x_test, y_test)"
      ],
      "metadata": {
        "id": "IZ3l_sZ7bBDe"
      },
      "execution_count": 4,
      "outputs": []
    },
    {
      "cell_type": "code",
      "source": [
        "import pandas as pd\n",
        "from sklearn.ensemble import RandomForestClassifier\n",
        "from sklearn.feature_selection import SelectFromModel\n",
        "for i in range(500, 2501, 100):\n",
        "  model = RandomForestClassifier(n_estimators = i)\n",
        "  model.fit(x_train, y_train)\n",
        "  a = model.predict(x_test) # предсказание\n",
        "  count = 0\n",
        "  for k in range(0, len(a)-1):\n",
        "    if a[k] == y_test[k]:\n",
        "      count +=1\n",
        "  print(i, count)"
      ],
      "metadata": {
        "id": "1HoAejli2bWX",
        "outputId": "25bedba9-7a49-42ba-d974-4d6cdb65e5d8",
        "colab": {
          "base_uri": "https://localhost:8080/"
        }
      },
      "execution_count": null,
      "outputs": [
        {
          "output_type": "stream",
          "name": "stdout",
          "text": [
            "500 97\n",
            "600 97\n",
            "700 98\n",
            "800 99\n",
            "900 99\n",
            "1000 99\n",
            "1100 99\n",
            "1200 99\n",
            "1300 99\n",
            "1400 99\n",
            "1500 97\n",
            "1600 99\n",
            "1700 99\n",
            "1800 99\n"
          ]
        }
      ]
    }
  ]
}